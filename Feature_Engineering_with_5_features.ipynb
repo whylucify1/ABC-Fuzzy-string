{
 "cells": [
  {
   "cell_type": "code",
   "execution_count": 1,
   "metadata": {},
   "outputs": [
    {
     "name": "stdout",
     "output_type": "stream",
     "text": [
      "Requirement already satisfied: fuzzywuzzy in /Users/zhou/opt/anaconda3/lib/python3.8/site-packages (0.18.0)\n",
      "Note: you may need to restart the kernel to use updated packages.\n"
     ]
    }
   ],
   "source": [
    "pip install fuzzywuzzy\n"
   ]
  },
  {
   "cell_type": "code",
   "execution_count": 2,
   "metadata": {},
   "outputs": [
    {
     "name": "stdout",
     "output_type": "stream",
     "text": [
      "Requirement already satisfied: jellyfish in /Users/zhou/opt/anaconda3/lib/python3.8/site-packages (0.11.2)\n",
      "Note: you may need to restart the kernel to use updated packages.\n"
     ]
    }
   ],
   "source": [
    "pip install jellyfish"
   ]
  },
  {
   "cell_type": "code",
   "execution_count": 3,
   "metadata": {},
   "outputs": [
    {
     "name": "stdout",
     "output_type": "stream",
     "text": [
      "Requirement already satisfied: python-Levenshtein in /Users/zhou/opt/anaconda3/lib/python3.8/site-packages (0.20.9)\n",
      "Requirement already satisfied: Levenshtein==0.20.9 in /Users/zhou/opt/anaconda3/lib/python3.8/site-packages (from python-Levenshtein) (0.20.9)\n",
      "Requirement already satisfied: rapidfuzz<3.0.0,>=2.3.0 in /Users/zhou/opt/anaconda3/lib/python3.8/site-packages (from Levenshtein==0.20.9->python-Levenshtein) (2.15.0)\n",
      "Note: you may need to restart the kernel to use updated packages.\n"
     ]
    }
   ],
   "source": [
    "pip install python-Levenshtein"
   ]
  },
  {
   "cell_type": "code",
   "execution_count": 4,
   "metadata": {},
   "outputs": [
    {
     "name": "stdout",
     "output_type": "stream",
     "text": [
      "Requirement already satisfied: scipy in /Users/zhou/opt/anaconda3/lib/python3.8/site-packages (1.5.2)\n",
      "Requirement already satisfied: numpy>=1.14.5 in /Users/zhou/opt/anaconda3/lib/python3.8/site-packages (from scipy) (1.20.3)\n",
      "Note: you may need to restart the kernel to use updated packages.\n"
     ]
    }
   ],
   "source": [
    "pip install scipy"
   ]
  },
  {
   "cell_type": "code",
   "execution_count": 5,
   "metadata": {},
   "outputs": [
    {
     "name": "stdout",
     "output_type": "stream",
     "text": [
      "Requirement already satisfied: scikit-learn in /Users/zhou/opt/anaconda3/lib/python3.8/site-packages (0.23.2)\n",
      "Requirement already satisfied: joblib>=0.11 in /Users/zhou/opt/anaconda3/lib/python3.8/site-packages (from scikit-learn) (0.17.0)\n",
      "Requirement already satisfied: numpy>=1.13.3 in /Users/zhou/opt/anaconda3/lib/python3.8/site-packages (from scikit-learn) (1.20.3)\n",
      "Requirement already satisfied: threadpoolctl>=2.0.0 in /Users/zhou/opt/anaconda3/lib/python3.8/site-packages (from scikit-learn) (2.1.0)\n",
      "Requirement already satisfied: scipy>=0.19.1 in /Users/zhou/opt/anaconda3/lib/python3.8/site-packages (from scikit-learn) (1.5.2)\n",
      "Note: you may need to restart the kernel to use updated packages.\n"
     ]
    }
   ],
   "source": [
    "pip install scikit-learn"
   ]
  },
  {
   "cell_type": "code",
   "execution_count": 6,
   "metadata": {},
   "outputs": [],
   "source": [
    "import pandas as pd\n",
    "import Levenshtein\n",
    "import jellyfish\n",
    "from scipy.spatial.distance import cosine\n",
    "from sklearn.feature_extraction.text import CountVectorizer\n",
    "\n",
    "def ngram_cosine_similarity(s1, s2, n=2):\n",
    "    vectorizer = CountVectorizer(analyzer='char_wb', ngram_range=(n, n), dtype=float)\n",
    "    vec_matrix = vectorizer.fit_transform([s1, s2]).toarray()\n",
    "    return 1 - cosine(vec_matrix[0], vec_matrix[1])\n",
    "\n",
    "# Read the input CSV file\n",
    "input_file = \"test_cases.csv\"\n",
    "df = pd.read_csv(input_file)\n",
    "\n",
    "# Calculate the string distance metrics\n",
    "df['levenshtein_distance'] = df.apply(lambda row: Levenshtein.distance(row['Original Name'], row['Test Case Name']), axis=1)\n",
    "df['damerau_levenshtein_distance'] = df.apply(lambda row: jellyfish.damerau_levenshtein_distance(row['Original Name'], row['Test Case Name']), axis=1)\n",
    "df['jaro_distance'] = df.apply(lambda row: jellyfish.jaro_distance(row['Original Name'], row['Test Case Name']), axis=1)\n",
    "df['jaro_winkler_distance'] = df.apply(lambda row: jellyfish.jaro_winkler(row['Original Name'], row['Test Case Name']), axis=1)\n",
    "df['ngram_cosine_similarity'] = df.apply(lambda row: ngram_cosine_similarity(row['Original Name'], row['Test Case Name']), axis=1)\n",
    "\n",
    "# Write the output CSV file\n",
    "output_file = \"test_cases_with_distances.csv\"\n",
    "df.to_csv(output_file, index=False)\n"
   ]
  },
  {
   "cell_type": "code",
   "execution_count": null,
   "metadata": {},
   "outputs": [],
   "source": []
  }
 ],
 "metadata": {
  "kernelspec": {
   "display_name": "Python 3",
   "language": "python",
   "name": "python3"
  },
  "language_info": {
   "codemirror_mode": {
    "name": "ipython",
    "version": 3
   },
   "file_extension": ".py",
   "mimetype": "text/x-python",
   "name": "python",
   "nbconvert_exporter": "python",
   "pygments_lexer": "ipython3",
   "version": "3.8.5"
  }
 },
 "nbformat": 4,
 "nbformat_minor": 4
}
