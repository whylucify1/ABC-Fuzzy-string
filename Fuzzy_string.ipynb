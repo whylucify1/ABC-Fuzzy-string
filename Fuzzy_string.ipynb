{
  "nbformat": 4,
  "nbformat_minor": 0,
  "metadata": {
    "colab": {
      "provenance": [],
      "include_colab_link": true
    },
    "kernelspec": {
      "name": "python3",
      "display_name": "Python 3"
    },
    "language_info": {
      "name": "python"
    }
  },
  "cells": [
    {
      "cell_type": "markdown",
      "metadata": {
        "id": "view-in-github",
        "colab_type": "text"
      },
      "source": [
        "<a href=\"https://colab.research.google.com/github/whylucify1/ABC-Fuzzy-string/blob/main/Fuzzy_string.ipynb\" target=\"_parent\"><img src=\"https://colab.research.google.com/assets/colab-badge.svg\" alt=\"Open In Colab\"/></a>"
      ]
    },
    {
      "cell_type": "markdown",
      "source": [
        "# Coding in eight different fuzzy string techniques and analysis: "
      ],
      "metadata": {
        "id": "VGIJKu0uokDr"
      }
    },
    {
      "cell_type": "code",
      "source": [
        "# Jaccard Similarity:\n",
        "def jaccard_similarity(str1, str2):\n",
        "    set1 = set(str1.split()) # It can only consider the characters, instead of the sequence, nor the frequency of words.\n",
        "    set2 = set(str2.split())\n",
        "    return len(set1.intersection(set2)) / len(set1.union(set2))"
      ],
      "metadata": {
        "id": "0w8E6OsZj_SJ"
      },
      "execution_count": null,
      "outputs": []
    },
    {
      "cell_type": "markdown",
      "source": [
        "## Jaccard similarity:\n",
        "* Definition of jaccard similarity: The Jaccard similarity is one of the indicators to measure the similarity between texting and documents. The value of Jaccard similarity is between 0 and 1. The more the value closer to 1, the more similarities it will be.\n",
        "* Pros and cons of jaccard similarity:  \n",
        "** Pros: \n",
        "  1. It is easy to calculate and being defined in python coding.\n",
        "  2. It is effective in comparing sets of binary values or presence/absence data. \n",
        "  3. Robust to the imbalance in set sizes.\n",
        "** Cons: \n",
        "  1. Not sensitive to the order or frequency of elements in sets. (It cannot consider the sequence of each character, or the frequency of each word.)\n",
        "  2. It may not perform well in numerical datasets.\n",
        "  3. It can produce misleading results with very sparse sets.\n"
      ],
      "metadata": {
        "id": "l2MQj-dqli3P"
      }
    },
    {
      "cell_type": "code",
      "source": [
        "# Levenshtein distance:\n",
        "def levenshtein_distance(str1, str2):\n",
        "    m = len(str1)\n",
        "    n = len(str2)\n",
        "    dp = [[0 for x in range(n + 1)] for x in range(m + 1)]\n",
        "\n",
        "    for i in range(m + 1):\n",
        "        for j in range(n + 1):\n",
        "            if i == 0:\n",
        "                dp[i][j] = j\n",
        "            elif j == 0:\n",
        "                dp[i][j] = i\n",
        "            elif str1[i - 1] == str2[j - 1]:\n",
        "                dp[i][j] = dp[i - 1][j - 1]\n",
        "            else:\n",
        "                dp[i][j] = 1 + min(dp[i][j - 1], dp[i - 1][j], dp[i - 1][j - 1])\n",
        "\n",
        "    return dp[m][n]"
      ],
      "metadata": {
        "id": "EyyvYnyPkZEX"
      },
      "execution_count": null,
      "outputs": []
    },
    {
      "cell_type": "code",
      "source": [
        "# Hamming distance:\n",
        "def hamming_distance(str1, str2):\n",
        "    if len(str1) != len(str2):\n",
        "        raise ValueError(\"Input strings must have the same length.\")\n",
        "    return sum(el1 != el2 for el1, el2 in zip(str1, str2))"
      ],
      "metadata": {
        "id": "mAUfWQp5kkjG"
      },
      "execution_count": null,
      "outputs": []
    },
    {
      "cell_type": "code",
      "source": [
        "# Damerau Levenshtein distance:\n",
        "def damerau_levenshtein_distance(str1, str2):\n",
        "    d = {}\n",
        "    lenstr1 = len(str1)\n",
        "    lenstr2 = len(str2)\n",
        "    for i in range(-1, lenstr1 + 1):\n",
        "        d[(i, -1)] = i + 1\n",
        "    for j in range(-1, lenstr2 + 1):\n",
        "        d[(-1, j)] = j + 1\n",
        "\n",
        "    for i in range(lenstr1):\n",
        "        for j in range(lenstr2):\n",
        "            if str1[i] == str2[j]:\n",
        "                cost = 0\n",
        "            else:\n",
        "                cost = 1\n",
        "            d[(i, j)] = min(\n",
        "                d[(i - 1, j)] + 1,\n",
        "                d[(i, j - 1)] + 1,\n",
        "                d[(i - 1, j - 1)] + cost,\n",
        "            )\n",
        "            if i and j and str1[i] == str2[j - 1] and str1[i - 1] == str2[j]:\n",
        "                d[(i, j)] = min(d[(i, j)], d[i - 2, j - 2] + cost)\n",
        "\n",
        "    return d[lenstr1 - 1, lenstr2 - 1]"
      ],
      "metadata": {
        "id": "TrXf0asnk83y"
      },
      "execution_count": null,
      "outputs": []
    },
    {
      "cell_type": "code",
      "source": [
        "# Longest common sebsequence (LCS): \n",
        "def longest_common_subsequence(str1, str2):\n",
        "    m = len(str1)\n",
        "    n = len(str2)\n",
        "    dp = [[0 for j in range(n + 1)] for i in range(m + 1)]\n",
        "    for i in range(1, m + 1):\n",
        "        for j in range(1, n + 1):\n",
        "            if str1[i - 1] == str2[j - 1]:\n",
        "                dp[i][j] = dp[i - 1][j - 1] + 1\n",
        "            else:\n",
        "                dp[i][j] = max(dp[i - 1][j], dp[i][j - 1])\n",
        "    index = dp[m][n]\n",
        "    lcs = [\"\"] * (index + 1)\n",
        "    lcs[index] = \"\"\n",
        "    i = m\n",
        "    j = n\n",
        "    while i > 0 and j > 0:\n",
        "        if str1[i - 1] == str2[j - 1]:\n",
        "            lcs[index - 1] = str1[i - 1]\n",
        "            i -= 1\n",
        "            j -= 1\n",
        "            index -= 1\n",
        "        elif dp[i - 1][j] > dp[i][j - 1]:\n",
        "            i -= 1\n",
        "        else:\n",
        "            j -= 1\n",
        "    return \"\".join(lcs)"
      ],
      "metadata": {
        "id": "FgVadu5jlR4S"
      },
      "execution_count": null,
      "outputs": []
    },
    {
      "cell_type": "code",
      "source": [
        "# Cosine similarity:\n",
        "import math\n",
        "\n",
        "def cosine_similarity(vec1, vec2):\n",
        "    dot_product = sum(x * y for x, y in zip(vec1, vec2))\n",
        "    magnitude_vec1 = math.sqrt(sum(x ** 2 for x in vec1))\n",
        "    magnitude_vec2 = math.sqrt(sum(x ** 2 for x in vec2))\n",
        "    return dot_product / (magnitude_vec1 * magnitude_vec2)"
      ],
      "metadata": {
        "id": "quoYtj-8mMSG"
      },
      "execution_count": null,
      "outputs": []
    },
    {
      "cell_type": "markdown",
      "source": [
        "This code assumes that vec1 and vec2 are lists representing the vectors to compare. The result is a float representing the cosine similarity between the vectors, with a range of -1 to 1.\n",
        "\n",
        "What does cosine similarity represent: "
      ],
      "metadata": {
        "id": "Fd3o2PmynTbu"
      }
    },
    {
      "cell_type": "code",
      "source": [
        "# Smith-Waterman Algorithm:\n",
        "def smith_waterman(str1, str2, match=2, mismatch=-1, gap=-1):\n",
        "    m = len(str1)\n",
        "    n = len(str2)\n",
        "    dp = [[0 for j in range(n + 1)] for i in range(m + 1)]\n",
        "    max_score = 0\n",
        "    for i in range(1, m + 1):\n",
        "        for j in range(1, n + 1):\n",
        "            score = max(\n",
        "                0,\n",
        "                dp[i - 1][j - 1] + (match if str1[i - 1] == str2[j - 1] else mismatch),\n",
        "                dp[i - 1][j] + gap,\n",
        "                dp[i][j - 1] + gap,\n",
        "            )\n",
        "            dp[i][j] = score\n",
        "            max_score = max(max_score, score)\n",
        "    return max_score"
      ],
      "metadata": {
        "id": "tJoNCa3dmPpQ"
      },
      "execution_count": null,
      "outputs": []
    },
    {
      "cell_type": "code",
      "source": [
        "# Ratcliff/Obershelp Algorithm:\n",
        "def find_split(A, B):\n",
        "    m = len(A)\n",
        "    n = len(B)\n",
        "    for i in range(min(m, n)):\n",
        "        if A[i] != B[i]:\n",
        "            return i\n",
        "    return min(m, n)\n",
        "\n",
        "def ratcliff_obershelp(A, B):\n",
        "    if not A or not B:\n",
        "        return 0\n",
        "    i = find_split(A, B)\n",
        "    if i == len(A) or i == len(B):\n",
        "        return i\n",
        "    return (\n",
        "        ratcliff_obershelp(A[:i], B[:i]) +\n",
        "        ratcliff_obershelp(A[i:], B[i:])\n",
        "    )"
      ],
      "metadata": {
        "id": "s-UZ6S6DmSeb"
      },
      "execution_count": null,
      "outputs": []
    }
  ]
}